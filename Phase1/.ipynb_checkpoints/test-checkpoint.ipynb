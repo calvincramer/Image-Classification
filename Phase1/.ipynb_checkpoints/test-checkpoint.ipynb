{
 "cells": [
  {
   "cell_type": "code",
   "execution_count": 7,
   "metadata": {},
   "outputs": [],
   "source": [
    "#import IPython;IPython.embed()\n",
    "from model import mnist_2Layer # my model.py\n",
    "from model import mnist_5Layer\n",
    "from model import mnist_modified\n",
    "from dataset import MNISTDataSet # my dataset.py\n",
    "import torch\n",
    "import torchvision\n",
    "import torchvision.transforms as transforms\n",
    "import matplotlib.pyplot as plt\n",
    "import numpy as np\n",
    "import torch.nn as nn\n",
    "import torch.nn.functional as F\n",
    "import torch.optim as optim\n",
    "from torchvision.transforms import Compose, Normalize, Resize, ToTensor\n",
    "from torch.nn.modules.loss import CrossEntropyLoss\n",
    "from torch.optim import SGD\n",
    "import os\n",
    "from torch.utils.data import DataLoader"
   ]
  },
  {
   "cell_type": "code",
   "execution_count": 13,
   "metadata": {},
   "outputs": [
    {
     "name": "stdout",
     "output_type": "stream",
     "text": [
      "CWD:  /LAB2/Phase1\n",
      "Path to dataset:  /LAB2/Phase1/data/processed/test.pt\n",
      "Path to model file:  /LAB2/Phase1/model2.pt\n"
     ]
    }
   ],
   "source": [
    "INPUT_MODEL = \"model5\"   # NAME OF FILE TO READ MODEL FROM\n",
    "cwd = os.getcwd()\n",
    "print(\"CWD: \", cwd)\n",
    "mnist_dataset_path = cwd + \"/data/processed/test.pt\"\n",
    "print(\"Path to dataset: \", mnist_dataset_path)\n",
    "model_read_path = cwd + \"/\" + INPUT_MODEL + \".pt\"\n",
    "print(\"Path to model file: \", model_read_path)"
   ]
  },
  {
   "cell_type": "code",
   "execution_count": 14,
   "metadata": {},
   "outputs": [
    {
     "name": "stdout",
     "output_type": "stream",
     "text": [
      "GPU AVAILABLE:  True\n"
     ]
    }
   ],
   "source": [
    "torch.cuda.init()\n",
    "USE_GPU = torch.cuda.is_available()\n",
    "print(\"GPU AVAILABLE: \", USE_GPU)"
   ]
  },
  {
   "cell_type": "code",
   "execution_count": 15,
   "metadata": {},
   "outputs": [
    {
     "name": "stdout",
     "output_type": "stream",
     "text": [
      "Num test pictures:  10000\n"
     ]
    },
    {
     "name": "stderr",
     "output_type": "stream",
     "text": [
      "/root/anaconda3/lib/python3.6/site-packages/torch/serialization.py:434: SourceChangeWarning: source code of class 'model.mnist_2Layer' has changed. you can retrieve the original source code by accessing the object's source attribute or set `torch.nn.Module.dump_patches = True` and use the patch tool to revert the changes.\n",
      "  warnings.warn(msg, SourceChangeWarning)\n"
     ]
    }
   ],
   "source": [
    "BATCH_SIZE = 32\n",
    "model = torch.load(model_read_path)\n",
    "if USE_GPU:\n",
    "    model = model.cuda()  # Run on GPU\n",
    "test_dataset = MNISTDataSet(mnist_dataset_path)\n",
    "data_loader = DataLoader(test_dataset, batch_size=BATCH_SIZE, shuffle=False)\n",
    "print(\"Num test pictures: \", len(test_dataset))"
   ]
  },
  {
   "cell_type": "code",
   "execution_count": 16,
   "metadata": {},
   "outputs": [
    {
     "name": "stdout",
     "output_type": "stream",
     "text": [
      "Starting testing...\n",
      "Starting epoch  0\n",
      "0\n",
      "3200\n",
      "6400\n",
      "9600\n",
      "Finished Testing\n"
     ]
    }
   ],
   "source": [
    "epoch = 1\n",
    "num_correct_predictions = 0\n",
    "\n",
    "print(\"Starting testing...\")\n",
    "for epoch_num in range(epoch):\n",
    "    print(\"Starting epoch \", epoch_num)\n",
    "    for i, data in enumerate(data_loader, 0):\n",
    "        x, y_real = data  # get the inputs\n",
    "        if USE_GPU:\n",
    "            x = x.cuda()\n",
    "            y_real = y_real.cuda()\n",
    "        # x is a [8, 28, 28] dim Tensor, 8 for the batch, each slice is an image\n",
    "        # y_read is a [8] dim Tensor, with a number for the actual digit each picture is\n",
    "        \n",
    "        # Make x into 4d Tensor, to adhere to [8,1,28,28], since we always have 1 channel\n",
    "        x = x.unsqueeze(1)\n",
    "        y_predict = model(x)  # Forward propogation to get prediction\n",
    "        \n",
    "        _, predicted_nums = y_predict.data.max(1)  # Get indicies of maximum elements\n",
    "        diff = predicted_nums.sub(y_real)          # Take difference between prediction and real\n",
    "        if USE_GPU:\n",
    "            diff = diff.cpu()\n",
    "        diff = diff.numpy()\n",
    "        num_right = len(diff) - np.count_nonzero(diff) # A non zero value is an incorrect prediction\n",
    "        num_correct_predictions = num_correct_predictions + num_right\n",
    "\n",
    "        \n",
    "        # Determine whether prediction is correct\n",
    "        #print(\"Predict: \", y_predict)\n",
    "        #print(\"Real   : \", y_real)  \n",
    "\n",
    "        if i % 100 == 0:\n",
    "            print(i*BATCH_SIZE)\n",
    "\n",
    "print('Finished Testing')"
   ]
  },
  {
   "cell_type": "code",
   "execution_count": 17,
   "metadata": {},
   "outputs": [
    {
     "name": "stdout",
     "output_type": "stream",
     "text": [
      "RESULTS FOR ---  model2  ---\n",
      "NUM CORRECT PREDICTIONS:  9753    /  10000\n",
      "ACCURACY:  0.9753\n"
     ]
    }
   ],
   "source": [
    "total_samples = len(test_dataset)\n",
    "accuracy = num_correct_predictions * 1.0 / total_samples\n",
    "print(\"RESULTS FOR --- \", INPUT_MODEL, \" ---\")\n",
    "print(\"NUM CORRECT PREDICTIONS: \", num_correct_predictions, \"   / \", total_samples)\n",
    "print(\"ACCURACY: \", accuracy)"
   ]
  },
  {
   "cell_type": "code",
   "execution_count": null,
   "metadata": {
    "collapsed": true
   },
   "outputs": [],
   "source": []
  }
 ],
 "metadata": {
  "kernelspec": {
   "display_name": "Python 3",
   "language": "python",
   "name": "python3"
  },
  "language_info": {
   "codemirror_mode": {
    "name": "ipython",
    "version": 3
   },
   "file_extension": ".py",
   "mimetype": "text/x-python",
   "name": "python",
   "nbconvert_exporter": "python",
   "pygments_lexer": "ipython3",
   "version": "3.6.8"
  }
 },
 "nbformat": 4,
 "nbformat_minor": 2
}
