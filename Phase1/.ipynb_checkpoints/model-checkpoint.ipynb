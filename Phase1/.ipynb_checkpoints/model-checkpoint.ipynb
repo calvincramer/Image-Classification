{
 "cells": [
  {
   "cell_type": "code",
   "execution_count": 1,
   "metadata": {
    "collapsed": true
   },
   "outputs": [],
   "source": [
    "import torch\n",
    "import torchvision\n",
    "import torchvision.transforms as transforms\n",
    "import matplotlib.pyplot as plt\n",
    "import numpy as np\n",
    "import torch.nn.functional as F\n",
    "import torch.optim as optim\n",
    "import torch.nn as nn\n",
    "from torch.nn import Conv2d\n",
    "from torch.nn import Linear\n",
    "from torch.nn import ReLU\n",
    "from torch.nn import MaxPool2d\n",
    "import math\n",
    "from functools import reduce"
   ]
  },
  {
   "cell_type": "code",
   "execution_count": 2,
   "metadata": {
    "collapsed": true
   },
   "outputs": [],
   "source": [
    "class mnist_2Layer(nn.Module):\n",
    "    def __init__(self):\n",
    "        super(mnist_2Layer, self).__init__()\n",
    "        self.conv_layer = Conv2d(in_channels=1, out_channels=20, kernel_size=3, stride=1, padding=0)\n",
    "        self.fully_connected_layer = Linear(in_features=20*26*26, out_features=10, bias=True)\n",
    "        \n",
    "    def forward(self,x):\n",
    "        #print(\"Input size: \", x.size())\n",
    "        x1 = self.conv_layer(x)\n",
    "        #print(\"Convolve size output: \", x1.size())\n",
    "        x2 = F.relu(x1)\n",
    "        #print(\"ReLU size output: \", x2.size())  \n",
    "        # Resize output to linear tensor, to match product of dimensions of fully connected layer\n",
    "        x3 = x2.view(-1, 20*26*26)\n",
    "        x4 = self.fully_connected_layer(x3)\n",
    "        #x5 = F.relu(x4) removing this increases accuracy a lot!!!!\n",
    "        #print(\"Fully connected size output: \", x3.size())        \n",
    "        return x4"
   ]
  },
  {
   "cell_type": "code",
   "execution_count": 3,
   "metadata": {
    "collapsed": true
   },
   "outputs": [],
   "source": [
    "class mnist_5Layer(nn.Module):\n",
    "    def __init__(self):\n",
    "        super(mnist_5Layer, self).__init__()\n",
    "        self.layer1 = Conv2d(in_channels=1, out_channels=32, kernel_size=5, stride=1, padding=2)\n",
    "        self.layer2 = MaxPool2d(kernel_size=2, stride=2)\n",
    "        self.layer3 = Conv2d(in_channels=32, out_channels=64, kernel_size=5, stride=1, padding=2)\n",
    "        self.layer4 = Linear(in_features=64*14*14, out_features=1024, bias=True)\n",
    "        self.layer5 = Linear(in_features=1024, out_features=10, bias=True)\n",
    "\n",
    "    def forward(self, x):\n",
    "        #print(\"Input size: \", x.size())\n",
    "        \n",
    "        x1 = self.layer1(x)\n",
    "        #print(\"Layer 1: Convolve output size: \", x1.size())\n",
    "        \n",
    "        x1p5 = F.relu(x1)\n",
    "        #print(\"Layer 1.5: Relu output: \", x1p5.size())\n",
    "        \n",
    "        x2 = self.layer2(x1p5)\n",
    "        #print(\"Layer 2: Pooling output size: \", x2.size())\n",
    "        \n",
    "        x2p5 = F.relu(x2)\n",
    "        #print(\"Layer 2.5: Relu output: \", x2p5.size())\n",
    "        \n",
    "        x3 = self.layer3(x2p5)\n",
    "        #print(\"Layer 3: Convolve output size: \", x3.size())\n",
    "        \n",
    "        x3p5 = F.relu(x3)\n",
    "        #print(\"Layer 3.5: Relu output: \", x3p5.size())\n",
    "        \n",
    "        # Do a 'view' transformation going from convolve to connected layers\n",
    "        x3p5_vectorized = x3p5.view(-1, 64*14*14)\n",
    "        \n",
    "        x4 = self.layer4(x3p5_vectorized)\n",
    "        #print(\"Layer 4: Connected output: \", x4.size())\n",
    "        \n",
    "        x5 = self.layer5(x4)\n",
    "        #print(\"Layer 5: Connected output: \", x5.size())\n",
    "        \n",
    "        return x5"
   ]
  },
  {
   "cell_type": "code",
   "execution_count": 12,
   "metadata": {
    "collapsed": true
   },
   "outputs": [],
   "source": [
    "class mnist_modified(nn.Module):\n",
    "    def __init__(self):\n",
    "        super(mnist_modified, self).__init__()\n",
    "        self.layer1 = Conv2d(in_channels=1, out_channels=32, kernel_size=5, stride=1, padding=2)\n",
    "        self.layer2 = MaxPool2d(kernel_size=2, stride=2)\n",
    "        self.layer3 = Conv2d(in_channels=32, out_channels=64, kernel_size=5, stride=1, padding=2)\n",
    "        self.layer4 = Linear(in_features=64*14*14, out_features=64*14*14, bias=True)\n",
    "        self.layer5 = Conv2d(in_channels=64, out_channels=128, kernel_size=5, stride=1, padding=2)\n",
    "        self.layer6 = MaxPool2d(kernel_size=2, stride=2)\n",
    "        self.layer7 = Conv2d(in_channels=128, out_channels=256, kernel_size=5, stride=1, padding=2)\n",
    "        self.layer8 = Linear(in_features=256*7*7, out_features=1024, bias=True)\n",
    "        self.layer9 = Linear(in_features=1024, out_features=10, bias=True)\n",
    "        \n",
    "    def forward(self,x):\n",
    "        x = self.layer1(x)\n",
    "        x = F.relu(x)\n",
    "        x = self.layer2(x)\n",
    "        x = F.relu(x)\n",
    "        x = self.layer3(x)\n",
    "        x = F.relu(x)        \n",
    "        x = x.view(-1, 64*14*14)\n",
    "        x = self.layer4(x)\n",
    "        x = x.view(-1, 64, 14, 14)\n",
    "        x = F.relu(x)\n",
    "        x = self.layer5(x)\n",
    "        x = F.relu(x)\n",
    "        x = self.layer6(x)\n",
    "        x = F.relu(x)\n",
    "        x = self.layer7(x)\n",
    "        x = F.relu(x)\n",
    "        x = x.view(-1, 256*7*7)\n",
    "        x = self.layer8(x)\n",
    "        x = self.layer9(x)        \n",
    "        \n",
    "        return x"
   ]
  },
  {
   "cell_type": "code",
   "execution_count": 13,
   "metadata": {},
   "outputs": [
    {
     "name": "stdout",
     "output_type": "stream",
     "text": [
      "[NbConvertApp] Converting notebook model.ipynb to script\n",
      "[NbConvertApp] Writing 4445 bytes to model.py\n"
     ]
    }
   ],
   "source": [
    "# Run this to convert the juypter notebook to a python file\n",
    "!jupyter nbconvert --to script model.ipynb"
   ]
  },
  {
   "cell_type": "code",
   "execution_count": null,
   "metadata": {
    "collapsed": true
   },
   "outputs": [],
   "source": []
  }
 ],
 "metadata": {
  "kernelspec": {
   "display_name": "Python 3",
   "language": "python",
   "name": "python3"
  },
  "language_info": {
   "codemirror_mode": {
    "name": "ipython",
    "version": 3
   },
   "file_extension": ".py",
   "mimetype": "text/x-python",
   "name": "python",
   "nbconvert_exporter": "python",
   "pygments_lexer": "ipython3",
   "version": "3.6.8"
  }
 },
 "nbformat": 4,
 "nbformat_minor": 2
}
