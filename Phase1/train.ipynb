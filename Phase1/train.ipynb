{
 "cells": [
  {
   "cell_type": "code",
   "execution_count": 1,
   "metadata": {},
   "outputs": [
    {
     "name": "stdout",
     "output_type": "stream",
     "text": [
      "[NbConvertApp] Converting notebook model.ipynb to script\n",
      "[NbConvertApp] Writing 4370 bytes to model.py\n"
     ]
    }
   ],
   "source": [
    "#import IPython;IPython.embed()\n",
    "from model import mnist_2Layer # my model.py\n",
    "from model import mnist_5Layer\n",
    "from model import mnist_modified\n",
    "from dataset import MNISTDataSet # my dataset.py\n",
    "import torch\n",
    "import torchvision\n",
    "import torchvision.transforms as transforms\n",
    "import matplotlib.pyplot as plt\n",
    "import numpy as np\n",
    "import torch.nn as nn\n",
    "import torch.nn.functional as F\n",
    "import torch.optim as optim\n",
    "from torchvision.transforms import Compose, Normalize, Resize, ToTensor\n",
    "from torch.nn.modules.loss import CrossEntropyLoss\n",
    "from torch.optim import SGD\n",
    "from torch.optim import Adam\n",
    "import os\n",
    "from torch.utils.data import DataLoader"
   ]
  },
  {
   "cell_type": "code",
   "execution_count": 2,
   "metadata": {},
   "outputs": [
    {
     "name": "stdout",
     "output_type": "stream",
     "text": [
      "CWD:  /LAB2/Phase1\n",
      "Path to dataset:  /LAB2/Phase1/data/processed/training.pt\n",
      "Path to model checkpoints save file:  /LAB2/Phase1/modelmodified_checkpoints.pt\n",
      "Path to model save file:  /LAB2/Phase1/modelmodified.pt\n"
     ]
    }
   ],
   "source": [
    "OUTPUT_MODEL = \"modelmodified\"   # NAME OF FILE TO SAVE THE MODEL IN\n",
    "cwd = os.getcwd()\n",
    "print(\"CWD: \", cwd)\n",
    "mnist_dataset_path = cwd + \"/data/processed/training.pt\"\n",
    "print(\"Path to dataset: \", mnist_dataset_path)\n",
    "model_checkpoint_save_path = cwd + \"/\" + OUTPUT_MODEL + \"_checkpoints.pt\"\n",
    "print(\"Path to model checkpoints save file: \", model_checkpoint_save_path)\n",
    "model_save_path = cwd + \"/\" + OUTPUT_MODEL + \".pt\"\n",
    "print(\"Path to model save file: \", model_save_path)"
   ]
  },
  {
   "cell_type": "code",
   "execution_count": 3,
   "metadata": {},
   "outputs": [
    {
     "name": "stdout",
     "output_type": "stream",
     "text": [
      "GPU AVAILABLE:  True\n"
     ]
    }
   ],
   "source": [
    "torch.cuda.init() #DELETE ME\n",
    "USE_GPU = torch.cuda.is_available()\n",
    "print(\"GPU AVAILABLE: \", USE_GPU)"
   ]
  },
  {
   "cell_type": "code",
   "execution_count": 4,
   "metadata": {},
   "outputs": [
    {
     "name": "stdout",
     "output_type": "stream",
     "text": [
      "60000\n"
     ]
    }
   ],
   "source": [
    "BATCH_SIZE = 32\n",
    "model = mnist_modified()  # MAKE SURE THE INSTANTIATE MODEL IS THE SAME AS THE FILE WHERE YOU SAVE THE WEIGHTS IN\n",
    "if USE_GPU:\n",
    "    model = model.cuda()  # Run on GPU\n",
    "loss_f = CrossEntropyLoss() # Need any parameers?\n",
    "optimizer = SGD(model.parameters(), lr=0.1, momentum=0.1, nesterov=True)  # Can also specify momentum here\n",
    "train_dataset = MNISTDataSet(mnist_dataset_path)\n",
    "data_loader = DataLoader(train_dataset, batch_size=BATCH_SIZE, shuffle=False)  \n",
    "# If shuffle is True, will shuffle every epoch, but dataset is already shuffled\n",
    "\n",
    "print(len(train_dataset))"
   ]
  },
  {
   "cell_type": "code",
   "execution_count": 5,
   "metadata": {},
   "outputs": [
    {
     "name": "stdout",
     "output_type": "stream",
     "text": [
      "Starting training...\n",
      "Starting epoch  0\n",
      "[  100] loss: 2.119\n",
      "[  200] loss: 0.777\n",
      "[  300] loss: 0.396\n",
      "[  400] loss: 0.239\n",
      "[  500] loss: 0.211\n",
      "[  600] loss: 0.164\n",
      "[  700] loss: 0.145\n",
      "[  800] loss: 0.142\n",
      "[  900] loss: 0.130\n",
      "[ 1000] loss: 0.128\n",
      "[ 1100] loss: 0.097\n",
      "[ 1200] loss: 0.102\n",
      "[ 1300] loss: 0.099\n",
      "[ 1400] loss: 0.083\n",
      "[ 1500] loss: 0.098\n",
      "[ 1600] loss: 0.079\n",
      "[ 1700] loss: 0.084\n",
      "[ 1800] loss: 0.065\n",
      "Starting epoch  1\n",
      "[  100] loss: 0.124\n",
      "[  200] loss: 0.059\n",
      "[  300] loss: 0.075\n",
      "[  400] loss: 0.052\n",
      "[  500] loss: 0.056\n",
      "[  600] loss: 0.055\n",
      "[  700] loss: 0.063\n",
      "[  800] loss: 0.045\n",
      "[  900] loss: 0.060\n",
      "[ 1000] loss: 0.037\n",
      "[ 1100] loss: 0.046\n",
      "[ 1200] loss: 0.052\n",
      "[ 1300] loss: 0.050\n",
      "[ 1400] loss: 0.040\n",
      "[ 1500] loss: 0.045\n",
      "[ 1600] loss: 0.043\n",
      "[ 1700] loss: 0.045\n",
      "[ 1800] loss: 0.031\n"
     ]
    }
   ],
   "source": [
    "epochs= 2\n",
    "running_loss = 0.0\n",
    "window = 100  # A window is 100 batches\n",
    "saved_weights = []\n",
    "saved_losses = []\n",
    "\n",
    "print(\"Starting training...\")\n",
    "for epoch_num in range(epochs):\n",
    "    print(\"Starting epoch \", epoch_num)\n",
    "    for i, data in enumerate(data_loader, 0):\n",
    "        x, y_real = data  # get the inputs\n",
    "        if USE_GPU:\n",
    "            x = x.cuda()\n",
    "            y_real = y_real.cuda()\n",
    "        # x is a [8, 28, 28] dim Tensor, 8 for the batch, each slice is an image\n",
    "        # y_read is a [8] dim Tensor, with a number for the actual digit each picture is\n",
    "                \n",
    "        # Make x into 4d Tensor, to adhere to [8,1,28,28], since we always have 1 channel\n",
    "        x = x.unsqueeze(1)\n",
    "        optimizer.zero_grad() # zero the parameter gradients\n",
    "        y_predict = model(x)  # Forward propogation\n",
    "        loss = loss_f(y_predict, y_real)  # Calculate loss between y_predict and y_real\n",
    "        loss.backward()   # Back propagation (just calculates the derivatives)\n",
    "        optimizer.step()  # Use derivatives to step in correct direction\n",
    "\n",
    "        # print statistics\n",
    "        running_loss += loss.item()\n",
    "        if i % window == window-1:    # print every 2000 mini-batches\n",
    "            loss_num = running_loss / window\n",
    "            print('[%5d] loss: %.3f' %(i + 1, loss_num))\n",
    "            \n",
    "            #TODO save your weight for very window\n",
    "            torch.save({\n",
    "                'epoch': epoch_num,\n",
    "                'model_state_dict': model.state_dict(),\n",
    "                'optimizer_state_dict': optimizer.state_dict(),\n",
    "                'loss': loss_f,\n",
    "            }, model_checkpoint_save_path)\n",
    "            \n",
    "            \n",
    "            saved_weights.append(model.parameters())\n",
    "            saved_losses.append([(i+1) + (epoch_num*len(train_dataset)/BATCH_SIZE), loss_num])\n",
    "            running_loss = 0.0\n",
    "            \n",
    "            #print(\"loss     : \", loss)\n",
    "            #print(\"Y predict: \", y_predict)\n",
    "            #print(\"Y real   : \", y_real, \"\\n\")"
   ]
  },
  {
   "cell_type": "code",
   "execution_count": 6,
   "metadata": {},
   "outputs": [
    {
     "name": "stdout",
     "output_type": "stream",
     "text": [
      "Finished Training\n",
      "Saved model to file\n"
     ]
    }
   ],
   "source": [
    "print('Finished Training')\n",
    "# Save whole model\n",
    "torch.save(model, model_save_path)\n",
    "print(\"Saved model to file\")"
   ]
  },
  {
   "cell_type": "code",
   "execution_count": 7,
   "metadata": {},
   "outputs": [
    {
     "data": {
      "image/png": "[encoded data removed]",
      "text/plain": [
       "<Figure size 432x288 with 1 Axes>"
      ]
     },
     "metadata": {},
     "output_type": "display_data"
    }
   ],
   "source": [
    "# Plot the loss over the training process\n",
    "saved_losses = np.array(saved_losses)\n",
    "plt.plot(saved_losses[:,0], saved_losses[:,1], label=\"Loss over epoch 1\")\n",
    "plt.xlabel(\"Image number\")\n",
    "plt.ylabel(\"Loss\")\n",
    "plt.show()"
   ]
  },
  {
   "cell_type": "code",
   "execution_count": 8,
   "metadata": {},
   "outputs": [
    {
     "name": "stdout",
     "output_type": "stream",
     "text": [
      "tensor([[-1.9315, -3.9664, -5.7940,  1.5558, -1.2009,  9.9752,  0.7597, -2.2048,\n",
      "          1.1521,  1.5836],\n",
      "        [-0.7017, -3.4590, -5.6536,  0.4656,  1.4072,  2.7152, -5.1720,  1.8198,\n",
      "         -0.5484,  9.2614],\n",
      "        [ 1.9471,  0.4971, 11.9395, -0.2864, -0.4228, -6.8389, -2.4030,  0.9977,\n",
      "         -0.7995, -4.9375],\n",
      "        [ 2.4931, -0.3464, 12.2885,  0.2342, -1.0659, -6.9585, -2.7586,  0.6327,\n",
      "         -0.0961, -4.8113],\n",
      "        [ 8.9945, -1.7981,  2.7746, -3.2586, -1.7240, -3.4609, -0.0716, -2.0427,\n",
      "          0.0255, -0.0507],\n",
      "        [-0.5095, -2.3330, -4.0832,  0.0713,  1.6444, -0.8145, -6.7216,  4.6037,\n",
      "         -1.2347,  9.6452],\n",
      "        [ 1.0333, -0.7069,  7.7020,  0.4527, -0.6622, -3.3344, -0.6075, -0.8624,\n",
      "          0.9634, -4.2270],\n",
      "        [-1.7257,  0.0381, -0.5388, -4.1480,  7.8296, -0.7845, -0.2302, -0.1566,\n",
      "         -1.4247,  1.0556],\n",
      "        [ 1.0096, -0.1305, -1.7069, -3.4939, -0.5148,  2.8759,  9.9688, -5.4851,\n",
      "          1.4233, -4.3635],\n",
      "        [-0.4636,  0.3626,  3.1776, -0.5266, -0.3027, -3.0249, -4.3727,  7.5656,\n",
      "         -2.6680,  0.5672],\n",
      "        [-5.3728, -2.3696, -2.5960, 15.1342, -5.1185,  4.1466, -8.5451,  0.7727,\n",
      "          0.4650,  4.5754],\n",
      "        [-3.2831,  9.9246, -1.0847, -3.8155,  3.3594, -4.3521, -1.1046,  1.6711,\n",
      "         -0.3317, -0.3404],\n",
      "        [-2.7758,  0.3557, -1.1548,  8.4509, -3.5630,  2.9718, -3.8553, -1.1632,\n",
      "          0.6064,  0.7491],\n",
      "        [-0.0959, -0.6076, -1.6227, -3.0745, -0.4426,  4.0907, 10.3505, -5.3512,\n",
      "          1.5121, -5.1628],\n",
      "        [ 1.5223, -0.9402, -0.9990, -2.5596, -0.2550,  2.7033,  7.2641, -4.4326,\n",
      "          0.8147, -3.5495],\n",
      "        [ 2.7345, -0.2628,  7.5569, -0.5536, -0.4120, -4.4421, -1.9112, -0.0197,\n",
      "         -0.6210, -2.3667],\n",
      "        [-3.0484, 10.3456, -0.3775, -3.6921,  2.4802, -4.6416, -0.8577,  1.3819,\n",
      "          0.0980, -1.0476],\n",
      "        [ 1.8885,  0.2492, 11.6874,  0.1725, -0.9032, -6.0990, -1.8512,  0.0350,\n",
      "         -0.1260, -5.3790],\n",
      "        [ 1.5689, -1.0276, -0.6822, -2.3227, -0.3480,  2.5237,  7.0450, -4.3697,\n",
      "          0.6390, -3.4209],\n",
      "        [ 9.3736, -1.6500,  2.9177, -3.1939, -1.7942, -3.5058,  0.0336, -1.9365,\n",
      "         -0.7672, -0.0646],\n",
      "        [-1.6675,  0.0801,  1.4318, -0.9298,  0.7224, -1.6849, -4.2804,  7.0814,\n",
      "         -1.3060,  0.8354],\n",
      "        [-1.8299, -1.4140,  0.0995,  0.9453, -1.9432, -1.0681, -2.0287, -3.3799,\n",
      "         10.3024,  0.1975],\n",
      "        [-1.1607, -2.7814, -4.8017, -0.0951,  3.3650, -0.4995, -5.9580,  1.5489,\n",
      "          0.4772, 10.0478],\n",
      "        [ 1.2017,  0.0474,  9.1666,  0.6044, -1.0297, -4.7670, -1.7722, -0.1341,\n",
      "          0.5991, -4.1316],\n",
      "        [-0.8183, -2.4401, -4.0162,  0.0532,  2.6909, -0.6473, -5.6011,  1.8524,\n",
      "          0.1595,  8.9147],\n",
      "        [-1.4893, -3.3470, -4.8479,  1.2745, -1.0433,  8.6152,  0.6588, -1.9603,\n",
      "          0.8769,  1.1959],\n",
      "        [-2.8860,  7.5720, -1.1730, -3.4755,  2.6703, -3.2568, -0.8571,  1.1267,\n",
      "          1.0856, -0.3124],\n",
      "        [-2.3271, -0.8417,  0.2187,  1.3963, -2.8141, -1.3741, -2.1949, -4.5067,\n",
      "         13.0588, -0.7382],\n",
      "        [-4.7183, -2.5235, -2.0590, 13.7417, -4.4993,  2.5492, -8.5069, -0.1013,\n",
      "          2.0941,  4.9225],\n",
      "        [-3.1577, -5.7531, -8.9963,  3.4724, -2.0025, 14.7804, -0.8977, -2.1126,\n",
      "          0.7575,  3.9493],\n",
      "        [ 1.3603, -0.5746, -1.0476, -3.0411, -0.2757,  2.5216,  8.1302, -4.6518,\n",
      "          1.0670, -3.9151],\n",
      "        [-0.6939, -1.0306,  0.1436, -0.1501, -1.9924, -0.7625, -1.4327, -2.3198,\n",
      "          8.1416, -0.0389]], device='cuda:0', grad_fn=<AddmmBackward>)\n"
     ]
    }
   ],
   "source": [
    "print(y_predict)"
   ]
  },
  {
   "cell_type": "code",
   "execution_count": 9,
   "metadata": {},
   "outputs": [
    {
     "name": "stdout",
     "output_type": "stream",
     "text": [
      "tensor([5, 9, 2, 2, 0, 9, 2, 4, 6, 7, 3, 1, 3, 6, 6, 2, 1, 2, 6, 0, 7, 8, 9, 2,\n",
      "        9, 5, 1, 8, 3, 5, 6, 8], device='cuda:0')\n"
     ]
    }
   ],
   "source": [
    "print(y_real)"
   ]
  },
  {
   "cell_type": "code",
   "execution_count": null,
   "metadata": {
    "collapsed": true
   },
   "outputs": [],
   "source": []
  }
 ],
 "metadata": {
  "kernelspec": {
   "display_name": "Python 3",
   "language": "python",
   "name": "python3"
  },
  "language_info": {
   "codemirror_mode": {
    "name": "ipython",
    "version": 3
   },
   "file_extension": ".py",
   "mimetype": "text/x-python",
   "name": "python",
   "nbconvert_exporter": "python",
   "pygments_lexer": "ipython3",
   "version": "3.6.8"
  }
 },
 "nbformat": 4,
 "nbformat_minor": 2
}
