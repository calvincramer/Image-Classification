{
 "cells": [
  {
   "cell_type": "markdown",
   "metadata": {
    "colab_type": "text",
    "id": "BtQH3witU_4n"
   },
   "source": [
    "# Lab 2 Part 2: Transfer Learning with Pytorch\n",
    "The goal for the second part of the lab is to familiarize you with another technique to train deep neural networks called transfer learning. Typically in neural networks you will have a lot of layers and not enough training data. This is especially true for this class, where the amount of data and types of differently annotated data we can get are very limited. Typically, neural networks are fed with millions of images in order to generalize well. The good thing is, if someone hands us a pretrained network we can still \"use\" all that data they trained with by retraining the parameters for our purposes. In this case, we will continue with our car classifier. "
   ]
  },
  {
   "cell_type": "markdown",
   "metadata": {
    "colab_type": "text",
    "id": "cSV4rLiLV4MG"
   },
   "source": [
    "## Import the necessary libraries\n",
    "We will import Pytorch and various modules within it, as well as numpy, matplotlib, and some Python system libraries."
   ]
  },
  {
   "cell_type": "code",
   "execution_count": 1,
   "metadata": {
    "collapsed": true
   },
   "outputs": [],
   "source": [
    "from __future__ import print_function, division\n",
    "\n",
    "import torch\n",
    "import torch.nn as nn\n",
    "import torch.optim as optim\n",
    "from torch.optim import lr_scheduler\n",
    "from torch.utils.data import Dataset as Dataset\n",
    "\n",
    "import torchvision\n",
    "from torchvision import datasets, models, transforms\n",
    "\n",
    "import matplotlib.pyplot as plt\n",
    "from matplotlib.pyplot import imshow\n",
    "\n",
    "from PIL import Image\n",
    "import numpy as np\n",
    "\n",
    "from torch.utils.data import DataLoader\n",
    "from torch.nn.modules.loss import CrossEntropyLoss\n",
    "from torch.optim import SGD\n",
    "from torch.optim import Adam\n",
    "from torch.nn import Linear\n",
    "\n",
    "from skimage import io\n",
    "\n",
    "import time\n",
    "import os\n",
    "import copy"
   ]
  },
  {
   "cell_type": "code",
   "execution_count": 2,
   "metadata": {
    "colab": {},
    "colab_type": "code",
    "id": "Q7-RIeS_U52p"
   },
   "outputs": [
    {
     "name": "stdout",
     "output_type": "stream",
     "text": [
      "GPU AVAILABLE:  True\n"
     ]
    }
   ],
   "source": [
    "torch.cuda.init() #DELETE ME\n",
    "USE_GPU = torch.cuda.is_available()\n",
    "print(\"GPU AVAILABLE: \", USE_GPU)"
   ]
  },
  {
   "cell_type": "markdown",
   "metadata": {
    "colab_type": "text",
    "id": "DNWpPPj3WcSR"
   },
   "source": [
    "In this step of the lab, you will construct a data loader to actually import the images from our dataset. Luckily, Pytorch has built in support for dataset objects. In this section, we have provided skeleton code for a dataset object. Please refer to the [Pytorch documentation](https://pytorch.org/docs/0.4.0/), as well as this [tutorial](https://pytorch.org/tutorials/beginner/data_loading_tutorial.html) to figure out how to properly load data for a neural network. "
   ]
  },
  {
   "cell_type": "code",
   "execution_count": 3,
   "metadata": {
    "colab": {},
    "colab_type": "code",
    "collapsed": true,
    "id": "IHWTPky8U52t"
   },
   "outputs": [],
   "source": [
    "# Car Dataset Object\n",
    "# Child of Dataset class\n",
    "class CarDataSet(Dataset):\n",
    "    # CarDataset constructor\n",
    "    # Inputs:\n",
    "    # path - string containing path to a directory of car dataset images\n",
    "    # transform - a transform to be done on the image; defaults to none if \n",
    "    #     no transforms are needed\n",
    "    def __init__(self, path, transform=None):\n",
    "        self.path      = path\n",
    "        self.transform = transform\n",
    "        self.imageList = os.listdir(self.path)\n",
    "    \n",
    "    # Retrieves image at specified index and returns the image along with a label\n",
    "    # Inputs:\n",
    "    # idx - specified image index\n",
    "    # Outputs:\n",
    "    # sample - structures containing images and their corresponding labels\n",
    "    def __getitem__(self, idx):\n",
    "        ### TODO ###\n",
    "        #READ IMAGE AND LABEL\n",
    "        imageName = self.imageList[idx]\n",
    "        image = os.path.join(self.path, imageName)\n",
    "        label = 0\n",
    "        if imageName[0:3] == \"pos\" or imageName[0:4] == \"test\":\n",
    "            label = 1\n",
    "            \n",
    "        image = Image.open(image).convert(\"RGB\")\n",
    "        if self.transform != None:\n",
    "            image = self.transform(image)\n",
    "            \n",
    "        sample = (image, label)\n",
    "        return sample\n",
    "    \n",
    "    # Return the number of images in the dataset\n",
    "    def __len__(self):\n",
    "        return len(self.imageList)\n",
    "    \n",
    "    # Plot and visualize an image and its corresponding label\n",
    "    def visualize(self, idx):\n",
    "        img_name = self.imageList[idx]\n",
    "        img_loc = os.path.join(self.path, img_name)\n",
    "        image = io.imread(img_loc)\n",
    "        _, label = self.__getitem__(idx)\n",
    "        plt.imshow(image)\n",
    "        # PRINT LABEL ON IMAGE\n",
    "        plt.show()"
   ]
  },
  {
   "cell_type": "markdown",
   "metadata": {
    "colab_type": "text",
    "id": "9rVAKDwMYsQc"
   },
   "source": [
    "## Import the dataset into a data loader object\n",
    "After constructing the dataset, we want to get it into a dataloader object as well as apply any necessary transformations on the image. Again, please refer to the [Pytorch documentation](https://pytorch.org/docs/0.4.0/), as well as the previously mentioned [data processing tutorial](https://pytorch.org/tutorials/beginner/data_loading_tutorial.html). You must apply two transforms at minimum, one to convert the images to torch tensors, and the other to normalize the images. "
   ]
  },
  {
   "cell_type": "code",
   "execution_count": 4,
   "metadata": {},
   "outputs": [
    {
     "name": "stdout",
     "output_type": "stream",
     "text": [
      "Number images in training set:  1050\n"
     ]
    }
   ],
   "source": [
    "### TODO ###\n",
    "trans = transforms.Compose([\n",
    "    transforms.Resize((224, 224)),\n",
    "    transforms.ToTensor(),\n",
    "    transforms.Normalize(mean=[0.485, 0.456, 0.406], std=[0.229, 0.224, 0.225])\n",
    "])\n",
    "dataset_train = CarDataSet(\"/LAB2/Phase2/TrainImages/\", trans)\n",
    "dataloader_train = DataLoader(dataset_train, batch_size=16, shuffle=False) \n",
    "print(\"Number images in training set: \", len(dataset_train))"
   ]
  },
  {
   "cell_type": "code",
   "execution_count": 5,
   "metadata": {
    "colab": {},
    "colab_type": "code",
    "id": "6Q7Kd2VfU52w"
   },
   "outputs": [
    {
     "data": {
      "image/png": "[encoded data removed]",
      "text/plain": [
       "<Figure size 432x288 with 1 Axes>"
      ]
     },
     "metadata": {},
     "output_type": "display_data"
    }
   ],
   "source": [
    "dataset_train.visualize(0)"
   ]
  },
  {
   "cell_type": "markdown",
   "metadata": {
    "colab_type": "text",
    "id": "YqJdnKUBZ6yT"
   },
   "source": [
    "## Model Definition\n",
    "Now that the data has been loaded into a data loader object, we can define our model. We will be using the resnet18 architecture ([original paper](https://arxiv.org/pdf/1512.03385.pdf)) with pretrained weights on the [ImageNet dataset](http://www.image-net.org/). In order to do transfer learning, we need to redefine the last fully connected layer in the pretrained model, and then retrain the whole network with our new final layer and new images. In this section, you need to redefine the new layer, choose an optimizer, and choose a loss function for the model. After doing so, you will create a training function to actually train model. "
   ]
  },
  {
   "cell_type": "code",
   "execution_count": 6,
   "metadata": {
    "colab": {},
    "colab_type": "code",
    "collapsed": true,
    "id": "ghDKJ3TMZzEr"
   },
   "outputs": [],
   "source": [
    "model_resnet18 = models.resnet18(pretrained=True)\n",
    "\n",
    "#TAKE LAST FULLY CONNECTED LAYER AND MAKE IT ONLY HAVE TWO OUTPUT NODES\n",
    "#print(model_resnet18.parameters)\n",
    "model_resnet18.fc = Linear(in_features=512, out_features=2, bias=True)\n",
    "if USE_GPU:\n",
    "    model_resnet18 = model_resnet18.cuda()\n",
    "    \n",
    "# Loss function and optimizer\n",
    "loss_resnet18 = CrossEntropyLoss()\n",
    "optimizer_resnet18 = SGD(model_resnet18.parameters(), lr=0.0001, momentum=0.1, nesterov=True)"
   ]
  },
  {
   "cell_type": "markdown",
   "metadata": {
    "colab_type": "text",
    "id": "qLNYIPJObEXX"
   },
   "source": [
    "## Creating the training loop\n",
    "The last step of the lab is to create the training loop. There are 5 parameters in our training function, all of them are neural network hyperparameters. We have the model architecture, loss function, optimizer, and learning rate. The fifth hyperparameter we work with here is the number of epochs. This is a measure of the number of times you want the model to 'see' the training set. The default value is 25 times, but the model may need more or less passes in order to generalize well. Your goal for this section is to write the training loop to train this model. Recall from lecture that there are 4 main steps to training a model. \n",
    "1. Inference/Current Prediction\n",
    "2. Compute the loss for the current prediction\n",
    "3. Compute the gradients of the loss with respect to the model parameters using backpropagation\n",
    "4. Update model weights and repeat\n",
    "\n",
    "Again, refer to the [Pytorch documentation](https://pytorch.org/docs/0.4.0/) as well as the following [tutorial](https://pytorch.org/tutorials/beginner/blitz/cifar10_tutorial.html). "
   ]
  },
  {
   "cell_type": "code",
   "execution_count": 7,
   "metadata": {
    "colab": {},
    "colab_type": "code",
    "collapsed": true,
    "id": "noLSL0wBU52z"
   },
   "outputs": [],
   "source": [
    "def train_model(model, loss_func, optimizer, lr_scheduler, num_epochs=25):\n",
    "    stamp = time.time()\n",
    "    best_weights = copy.deepcopy(model.state_dict())\n",
    "    best_loss = 99999999999999999999\n",
    "    \n",
    "    # Loop over the number of epochs\n",
    "    for epoch in range(num_epochs):\n",
    "        print(\"Epoch {}/{}\".format(epoch, num_epochs - 1))\n",
    "        print(\"-\" * 20)\n",
    "        \n",
    "        running_loss = 0.0\n",
    "        \n",
    "        for i, sample in enumerate(dataloader_train, 0):\n",
    "            x, y_real = sample  # get the inputs\n",
    "            if USE_GPU:\n",
    "                x = x.cuda()\n",
    "                y_real = y_real.cuda()\n",
    "\n",
    "            optimizer.zero_grad() # zero the parameter gradients\n",
    "            y_predict = model(x)  # Forward propogation\n",
    "            loss = loss_func(y_predict, y_real)  # Calculate loss between y_predict and y_real\n",
    "            loss.backward()   # Back propagation (just calculates the derivatives)\n",
    "            optimizer.step()  # Use derivatives to step in correct direction\n",
    "\n",
    "            # print statistics\n",
    "            ### TODO: Add running loss ###\n",
    "            running_loss += loss.item()\n",
    "\n",
    "        ### TODO: Compute loss for whole epoch\n",
    "        epoch_loss = running_loss * 1.0 / len(dataset_train)\n",
    "        print('Loss: {:.4f}'.format(epoch_loss))\n",
    "\n",
    "        ### TODO: Update best weights if they have the lowest loss ###\n",
    "        if running_loss < best_loss:\n",
    "            best_weights = copy.deepcopy(model.state_dict())\n",
    "            best_loss = running_loss\n",
    "        \n",
    "    elapsed = time.time() - stamp\n",
    "    print(\"Training complete in {:.0f} min {:.0f} sec\".format(elapsed // 60, elapsed % 60))\n",
    "    \n",
    "    model.load_state_dict(best_weights)\n",
    "    return model"
   ]
  },
  {
   "cell_type": "markdown",
   "metadata": {
    "colab_type": "text",
    "id": "wpjXFG15dsMw"
   },
   "source": [
    "## Run our Training Function for our defined hyperparameters"
   ]
  },
  {
   "cell_type": "code",
   "execution_count": 8,
   "metadata": {
    "colab": {},
    "colab_type": "code",
    "id": "9fxC-45vU526",
    "outputId": "b320ac00-8413-4776-944d-09090ac0c9e2"
   },
   "outputs": [
    {
     "name": "stdout",
     "output_type": "stream",
     "text": [
      "Epoch 0/24\n",
      "--------------------\n",
      "Loss: 0.0477\n",
      "Epoch 1/24\n",
      "--------------------\n",
      "Loss: 0.0362\n",
      "Epoch 2/24\n",
      "--------------------\n",
      "Loss: 0.0315\n",
      "Epoch 3/24\n",
      "--------------------\n",
      "Loss: 0.0281\n",
      "Epoch 4/24\n",
      "--------------------\n",
      "Loss: 0.0254\n",
      "Epoch 5/24\n",
      "--------------------\n",
      "Loss: 0.0232\n",
      "Epoch 6/24\n",
      "--------------------\n",
      "Loss: 0.0213\n",
      "Epoch 7/24\n",
      "--------------------\n",
      "Loss: 0.0197\n",
      "Epoch 8/24\n",
      "--------------------\n",
      "Loss: 0.0183\n",
      "Epoch 9/24\n",
      "--------------------\n",
      "Loss: 0.0171\n",
      "Epoch 10/24\n",
      "--------------------\n",
      "Loss: 0.0161\n",
      "Epoch 11/24\n",
      "--------------------\n",
      "Loss: 0.0151\n",
      "Epoch 12/24\n",
      "--------------------\n",
      "Loss: 0.0143\n",
      "Epoch 13/24\n",
      "--------------------\n",
      "Loss: 0.0135\n",
      "Epoch 14/24\n",
      "--------------------\n",
      "Loss: 0.0129\n",
      "Epoch 15/24\n",
      "--------------------\n",
      "Loss: 0.0122\n",
      "Epoch 16/24\n",
      "--------------------\n",
      "Loss: 0.0117\n",
      "Epoch 17/24\n",
      "--------------------\n",
      "Loss: 0.0112\n",
      "Epoch 18/24\n",
      "--------------------\n",
      "Loss: 0.0107\n",
      "Epoch 19/24\n",
      "--------------------\n",
      "Loss: 0.0103\n",
      "Epoch 20/24\n",
      "--------------------\n",
      "Loss: 0.0099\n",
      "Epoch 21/24\n",
      "--------------------\n",
      "Loss: 0.0095\n",
      "Epoch 22/24\n",
      "--------------------\n",
      "Loss: 0.0092\n",
      "Epoch 23/24\n",
      "--------------------\n",
      "Loss: 0.0088\n",
      "Epoch 24/24\n",
      "--------------------\n",
      "Loss: 0.0085\n",
      "Training complete in 1 min 48 sec\n"
     ]
    }
   ],
   "source": [
    "model_ft = train_model(model_resnet18, loss_resnet18, optimizer_resnet18, lr_scheduler, num_epochs=25)"
   ]
  },
  {
   "cell_type": "markdown",
   "metadata": {},
   "source": [
    "## Training with a Fixed Feature Extractor\n",
    "There is an even simpler way to train the pretrained Resnet18 architecture. We can do this by freezing the weights in the convolutional layer and only training the final layer that we redefined earlier. The code should be very similar to what was written above. Your goal is to figure out how to load the pretrained model and freeze all the weights in the network besides the final layer that you redefine. "
   ]
  },
  {
   "cell_type": "code",
   "execution_count": 9,
   "metadata": {},
   "outputs": [],
   "source": [
    "model_frozen_conv = torchvision.models.resnet18(pretrained=True)\n",
    "\n",
    "for param in model_frozen_conv.parameters():\n",
    "    param.requires_grad = False\n",
    "model_frozen_conv.fc.requires_grad = True\n",
    "\n",
    "model_frozen_conv.fc = Linear(in_features=512, out_features=2, bias=True)\n",
    "\n",
    "\n",
    "if USE_GPU:\n",
    "    model_frozen_conv = model_frozen_conv.cuda()\n",
    "    \n",
    "# Loss function and optimizer\n",
    "frozen_loss_resnet18 = CrossEntropyLoss()\n",
    "frozen_optimizer_resnet18 = SGD(model_frozen_conv.parameters(), lr=0.0001, momentum=0.1, nesterov=True)"
   ]
  },
  {
   "cell_type": "code",
   "execution_count": 10,
   "metadata": {},
   "outputs": [
    {
     "name": "stdout",
     "output_type": "stream",
     "text": [
      "Epoch 0/24\n",
      "--------------------\n",
      "Loss: 0.0465\n",
      "Epoch 1/24\n",
      "--------------------\n",
      "Loss: 0.0421\n",
      "Epoch 2/24\n",
      "--------------------\n",
      "Loss: 0.0398\n",
      "Epoch 3/24\n",
      "--------------------\n",
      "Loss: 0.0378\n",
      "Epoch 4/24\n",
      "--------------------\n",
      "Loss: 0.0361\n",
      "Epoch 5/24\n",
      "--------------------\n",
      "Loss: 0.0345\n",
      "Epoch 6/24\n",
      "--------------------\n",
      "Loss: 0.0331\n",
      "Epoch 7/24\n",
      "--------------------\n",
      "Loss: 0.0318\n",
      "Epoch 8/24\n",
      "--------------------\n",
      "Loss: 0.0306\n",
      "Epoch 9/24\n",
      "--------------------\n",
      "Loss: 0.0295\n",
      "Epoch 10/24\n",
      "--------------------\n",
      "Loss: 0.0284\n",
      "Epoch 11/24\n",
      "--------------------\n",
      "Loss: 0.0275\n",
      "Epoch 12/24\n",
      "--------------------\n",
      "Loss: 0.0266\n",
      "Epoch 13/24\n",
      "--------------------\n",
      "Loss: 0.0258\n",
      "Epoch 14/24\n",
      "--------------------\n",
      "Loss: 0.0251\n",
      "Epoch 15/24\n",
      "--------------------\n",
      "Loss: 0.0244\n",
      "Epoch 16/24\n",
      "--------------------\n",
      "Loss: 0.0238\n",
      "Epoch 17/24\n",
      "--------------------\n",
      "Loss: 0.0232\n",
      "Epoch 18/24\n",
      "--------------------\n",
      "Loss: 0.0226\n",
      "Epoch 19/24\n",
      "--------------------\n",
      "Loss: 0.0221\n",
      "Epoch 20/24\n",
      "--------------------\n",
      "Loss: 0.0216\n",
      "Epoch 21/24\n",
      "--------------------\n",
      "Loss: 0.0211\n",
      "Epoch 22/24\n",
      "--------------------\n",
      "Loss: 0.0207\n",
      "Epoch 23/24\n",
      "--------------------\n",
      "Loss: 0.0203\n",
      "Epoch 24/24\n",
      "--------------------\n",
      "Loss: 0.0199\n",
      "Training complete in 1 min 17 sec\n"
     ]
    }
   ],
   "source": [
    "model_frozen_conv = train_model(model_frozen_conv, frozen_loss_resnet18, frozen_optimizer_resnet18, lr_scheduler, num_epochs=25)"
   ]
  },
  {
   "cell_type": "code",
   "execution_count": 11,
   "metadata": {
    "collapsed": true
   },
   "outputs": [],
   "source": [
    "# Calculate accuracy\n",
    "#def accuracy method\n",
    "def calc_accuracy(model, data_loader, len_dataset):\n",
    "    num_correct_predictions = 0\n",
    "\n",
    "    for i, data in enumerate(data_loader, 0):\n",
    "        x, y_real = data  # get the inputs\n",
    "        if USE_GPU:\n",
    "            x = x.cuda()\n",
    "            y_real = y_real.cuda()\n",
    "\n",
    "        y_predict = model(x)  # Forward propogation\n",
    "        _, predicted_nums = y_predict.data.max(1)  # Get indicies of maximum elements\n",
    "        diff = predicted_nums.sub(y_real)          # Take difference between prediction and real\n",
    "        if USE_GPU:\n",
    "            diff = diff.cpu()\n",
    "        diff = diff.numpy()\n",
    "        num_right = len(diff) - np.count_nonzero(diff) # A non zero value is an incorrect prediction\n",
    "        num_correct_predictions = num_correct_predictions + num_right\n",
    " \n",
    "    acc = num_correct_predictions * 1.0 / len_dataset\n",
    "    return acc"
   ]
  },
  {
   "cell_type": "markdown",
   "metadata": {},
   "source": [
    "# Calculate Training Accuracies"
   ]
  },
  {
   "cell_type": "code",
   "execution_count": 12,
   "metadata": {},
   "outputs": [
    {
     "name": "stdout",
     "output_type": "stream",
     "text": [
      "Training accuracy of wholly trained model:  0.9847619047619047\n"
     ]
    }
   ],
   "source": [
    "print(\"Training accuracy of wholly trained model: \", calc_accuracy(model_ft, dataloader_train, len(dataset_train)))"
   ]
  },
  {
   "cell_type": "code",
   "execution_count": 13,
   "metadata": {},
   "outputs": [
    {
     "name": "stdout",
     "output_type": "stream",
     "text": [
      "Training accuracy of frozen model:  0.9238095238095239\n"
     ]
    }
   ],
   "source": [
    "print(\"Training accuracy of frozen model: \", calc_accuracy(model_frozen_conv, dataloader_train, len(dataset_train)))"
   ]
  },
  {
   "cell_type": "code",
   "execution_count": 14,
   "metadata": {},
   "outputs": [
    {
     "name": "stdout",
     "output_type": "stream",
     "text": [
      "Number images in test set:  1050\n"
     ]
    }
   ],
   "source": [
    "# CALCULATE TESTING ACCURACIES\n",
    "# ALL PHOTOS IN THE TESTING DATASET ARE CARS!\n",
    "trans = transforms.Compose([\n",
    "    transforms.Resize((224, 224)),\n",
    "    transforms.ToTensor(),\n",
    "    transforms.Normalize(mean=[0.485, 0.456, 0.406], std=[0.229, 0.224, 0.225])\n",
    "])\n",
    "dataset_test = CarDataSet(\"/LAB2/Phase2/TestImages/\", trans)\n",
    "dataloader_test = DataLoader(dataset_test, batch_size=16, shuffle=False) \n",
    "print(\"Number images in test set: \", len(dataset_train))"
   ]
  },
  {
   "cell_type": "markdown",
   "metadata": {},
   "source": [
    "# Calculate Testing Accuracies"
   ]
  },
  {
   "cell_type": "code",
   "execution_count": 15,
   "metadata": {},
   "outputs": [
    {
     "name": "stdout",
     "output_type": "stream",
     "text": [
      "Testing accuracy of wholly trained model:  0.611764705882353\n"
     ]
    }
   ],
   "source": [
    "print(\"Testing accuracy of wholly trained model: \", calc_accuracy(model_ft, dataloader_test, len(dataset_test)))"
   ]
  },
  {
   "cell_type": "code",
   "execution_count": 16,
   "metadata": {},
   "outputs": [
    {
     "name": "stdout",
     "output_type": "stream",
     "text": [
      "Testing accuracy of frozen model:  0.5294117647058824\n"
     ]
    }
   ],
   "source": [
    "print(\"Testing accuracy of frozen model: \", calc_accuracy(model_frozen_conv, dataloader_test, len(dataset_test)))"
   ]
  }
 ],
 "metadata": {
  "colab": {
   "name": "Lab2_Part2.ipynb",
   "provenance": [],
   "version": "0.3.2"
  },
  "kernelspec": {
   "display_name": "Python 3",
   "language": "python",
   "name": "python3"
  },
  "language_info": {
   "codemirror_mode": {
    "name": "ipython",
    "version": 3
   },
   "file_extension": ".py",
   "mimetype": "text/x-python",
   "name": "python",
   "nbconvert_exporter": "python",
   "pygments_lexer": "ipython3",
   "version": "3.6.8"
  }
 },
 "nbformat": 4,
 "nbformat_minor": 1
}
